{
  "nbformat": 4,
  "nbformat_minor": 0,
  "metadata": {
    "colab": {
      "name": "assignment-2.ipynb",
      "provenance": []
    },
    "kernelspec": {
      "name": "python3",
      "display_name": "Python 3"
    },
    "language_info": {
      "name": "python"
    }
  },
  "cells": [
    {
      "cell_type": "code",
      "execution_count": null,
      "metadata": {
        "id": "x4iASBbg81Ea"
      },
      "outputs": [],
      "source": [
        ""
      ]
    },
    {
      "cell_type": "markdown",
      "source": [
        "1. Python program to interchange first and last elements in a list\n",
        "Given a list, write a Python program to swap first and last element of the list.\n",
        "Examples: \n",
        "Input : [12, 35, 9, 56, 24]\n",
        "Output : [24, 35, 9, 56, 12]\n",
        "\n",
        "Input : [1, 2, 3]\n",
        "\n",
        "Output : [3, 2, 1]\n",
        " \n"
      ],
      "metadata": {
        "id": "4rRms2zX87vT"
      }
    },
    {
      "cell_type": "code",
      "source": [
        "list=[12, 35, 9, 56, 24]\n",
        "list[0],list[len(list)-1]=list[len(list)-1],list[0]\n",
        "print(list)"
      ],
      "metadata": {
        "colab": {
          "base_uri": "https://localhost:8080/"
        },
        "id": "WB90mAwD88jn",
        "outputId": "cbcc2fad-b163-472d-8b94-87d6c01d01d7"
      },
      "execution_count": null,
      "outputs": [
        {
          "output_type": "stream",
          "name": "stdout",
          "text": [
            "[24, 35, 9, 56, 12]\n"
          ]
        }
      ]
    },
    {
      "cell_type": "code",
      "source": [
        "list  = [1,3,4,6,7,8,9]\n",
        "print(list)\n",
        "frist = list.pop()\n",
        "last = list.pop(0) \n",
        "list.append(last)\n",
        "list.insert(0,frist)\n",
        "print(list)\n"
      ],
      "metadata": {
        "colab": {
          "base_uri": "https://localhost:8080/"
        },
        "id": "sdnIiRoi9Vl4",
        "outputId": "d72e87f2-2b97-4c2e-f54b-a1fc0ce2ec4c"
      },
      "execution_count": null,
      "outputs": [
        {
          "output_type": "stream",
          "name": "stdout",
          "text": [
            "[1, 3, 4, 6, 7, 8, 9]\n",
            "[9, 3, 4, 6, 7, 8, 1]\n"
          ]
        }
      ]
    },
    {
      "cell_type": "markdown",
      "source": [
        "2. WAP to find length of list\n",
        "The list is : [1, 4, 5, 7, 8]\n",
        "Length of list is : 5\n",
        "# New Section"
      ],
      "metadata": {
        "id": "zkl11hvI93NF"
      }
    },
    {
      "cell_type": "code",
      "source": [
        "list =  [1, 4, 5, 7, 8]\n",
        "c=0\n",
        "for i in list :\n",
        "  c+=1\n",
        "print('total element in list are : ',c)"
      ],
      "metadata": {
        "colab": {
          "base_uri": "https://localhost:8080/"
        },
        "id": "wIJkh2Hi9m7U",
        "outputId": "de3bf159-9141-482d-bbc7-2a2a4943527a"
      },
      "execution_count": null,
      "outputs": [
        {
          "output_type": "stream",
          "name": "stdout",
          "text": [
            "total element in list are :  5\n"
          ]
        }
      ]
    },
    {
      "cell_type": "markdown",
      "source": [
        "3. WAP to Check if element exists in list \n",
        "\n",
        "Checking if 4 exists in list : \n",
        "Element Exists\n",
        "\n"
      ],
      "metadata": {
        "id": "FfCx1gLX-zqy"
      }
    },
    {
      "cell_type": "code",
      "source": [
        "list = [1, 4, 5, 7, 8]\n",
        "c=0\n",
        "for i in list:\n",
        "  if i==4:\n",
        "    c+=1\n",
        "if c>0:\n",
        "  print('Element Exists ! ')\n",
        "else:\n",
        "  print('element not exists ! ')\n",
        "\n",
        "  "
      ],
      "metadata": {
        "colab": {
          "base_uri": "https://localhost:8080/"
        },
        "id": "ovdAIy2n-NIh",
        "outputId": "ee0b5d56-70ec-48aa-aa17-45c161862286"
      },
      "execution_count": null,
      "outputs": [
        {
          "output_type": "stream",
          "name": "stdout",
          "text": [
            "Element Exists\n"
          ]
        }
      ]
    },
    {
      "cell_type": "code",
      "source": [
        "list = [1, 4, 5, 7, 8]\n",
        "c=0\n",
        "for i in list:\n",
        "  if i==4:\n",
        "    c+=1\n",
        "c>0 ? print('Element Exists') : print('element not exist')"
      ],
      "metadata": {
        "colab": {
          "base_uri": "https://localhost:8080/",
          "height": 131
        },
        "id": "25NIyiyCGlyS",
        "outputId": "298087f8-8f75-4b4b-c9f9-ddeebe1ea447"
      },
      "execution_count": null,
      "outputs": [
        {
          "output_type": "error",
          "ename": "SyntaxError",
          "evalue": "ignored",
          "traceback": [
            "\u001b[0;36m  File \u001b[0;32m\"<ipython-input-26-e56d078ef329>\"\u001b[0;36m, line \u001b[0;32m6\u001b[0m\n\u001b[0;31m    c>0 ? print('Element Exists'):print('element not exist')\u001b[0m\n\u001b[0m        ^\u001b[0m\n\u001b[0;31mSyntaxError\u001b[0m\u001b[0;31m:\u001b[0m invalid syntax\n"
          ]
        }
      ]
    },
    {
      "cell_type": "markdown",
      "source": [
        "4. WAP to clear a list\n",
        "before clear: [6, 0, 4, 1]\n",
        "after clear: []\n"
      ],
      "metadata": {
        "id": "_PDSpKwI_0ZS"
      }
    },
    {
      "cell_type": "code",
      "source": [
        "list = [1, 4, 5, 7, 8]\n",
        "print(list)\n",
        "for i in range (len(list)-1,-1,-1):\n",
        "  list.remove(list[i])\n",
        "  #print (i)\n",
        "print(list)"
      ],
      "metadata": {
        "colab": {
          "base_uri": "https://localhost:8080/"
        },
        "id": "KyBCr9ki_q9a",
        "outputId": "b9d0be68-1834-4b77-c0b6-358ca6526481"
      },
      "execution_count": null,
      "outputs": [
        {
          "output_type": "stream",
          "name": "stdout",
          "text": [
            "[1, 4, 5, 7, 8]\n",
            "[]\n"
          ]
        }
      ]
    },
    {
      "cell_type": "markdown",
      "source": [
        "5. WAP to Reversing a List\n",
        "Input : list = [10, 11, 12, 13, 14, 15]\n",
        "Output : [15, 14, 13, 12, 11, 10]\n",
        " \n",
        "Input : list = [4, 5, 6, 7, 8, 9]\n",
        "Output : [9, 8, 7, 6, 5, 4]\n"
      ],
      "metadata": {
        "id": "TpL9F-sIBRUi"
      }
    },
    {
      "cell_type": "code",
      "source": [
        "list = [4, 5, 6, 7, 8, 9] \n",
        "print(list)\n",
        "print (list[::-1])"
      ],
      "metadata": {
        "colab": {
          "base_uri": "https://localhost:8080/"
        },
        "id": "_0BJgD8EAJv_",
        "outputId": "3b2d98c9-fec9-4f35-eae9-0a5b353bfcd8"
      },
      "execution_count": null,
      "outputs": [
        {
          "output_type": "stream",
          "name": "stdout",
          "text": [
            "[4, 5, 6, 7, 8, 9]\n",
            "[9, 8, 7, 6, 5, 4]\n"
          ]
        }
      ]
    },
    {
      "cell_type": "code",
      "source": [
        "list = [4, 5, 6, 7, 8, 9] \n",
        "l2=[]\n",
        "for i in range (len(list)-1,-1,-1):\n",
        "  l2.append(list[i])\n",
        "print(list)\n",
        "print(l2)"
      ],
      "metadata": {
        "colab": {
          "base_uri": "https://localhost:8080/"
        },
        "id": "DEBNsA_xCEdc",
        "outputId": "b5349094-68fe-4dc0-dfa1-139dffe75a8b"
      },
      "execution_count": null,
      "outputs": [
        {
          "output_type": "stream",
          "name": "stdout",
          "text": [
            "[4, 5, 6, 7, 8, 9]\n",
            "[9, 8, 7, 6, 5, 4]\n"
          ]
        }
      ]
    },
    {
      "cell_type": "code",
      "source": [
        "list = [10, 11, 12, 13, 14, 15]\n",
        "list.reverse()\n",
        "print(\"Reverse list:\",list)\n"
      ],
      "metadata": {
        "id": "t88qJGXXD1K3"
      },
      "execution_count": null,
      "outputs": []
    },
    {
      "cell_type": "markdown",
      "source": [
        "6. Given a list of numbers, write a Python program to find the sum of all the elements in the list.\n",
        "Example: \n",
        " \n",
        "Input: [12, 15, 3, 10]\n",
        "Output: 40\n",
        " \n",
        "Input: [17, 5, 3, 5]\n",
        "Output: 30\n"
      ],
      "metadata": {
        "id": "3kO-7eXYDJVS"
      }
    },
    {
      "cell_type": "code",
      "source": [
        "list =  [12, 15, 3, 10] \n",
        "sum=0\n",
        "for i in list:\n",
        "  sum+=i\n",
        "print ('total sum  is : ',sum)"
      ],
      "metadata": {
        "colab": {
          "base_uri": "https://localhost:8080/"
        },
        "id": "wLiEbfdzDFEK",
        "outputId": "102cd274-1650-4101-f702-6a7e661bf77e"
      },
      "execution_count": null,
      "outputs": [
        {
          "output_type": "stream",
          "name": "stdout",
          "text": [
            "total sum  is :  40\n"
          ]
        }
      ]
    },
    {
      "cell_type": "markdown",
      "source": [
        "7. Given a list of numbers, the task is to write a Python program to find the second largest number in the given list.\n",
        "Examples: \n",
        "Input: list1 = [10, 20, 4]\n",
        "Output: 10\n",
        "Input: list2 = [70, 11, 20, 4, 100]\n",
        "Output: 70\n"
      ],
      "metadata": {
        "id": "K_RR3045GEwF"
      }
    },
    {
      "cell_type": "code",
      "source": [
        "list = [70, 11, 20, 4, 100] \n",
        "l = list\n",
        "l.remove(max(list))\n",
        "print('second highest element is : ',max(l))"
      ],
      "metadata": {
        "colab": {
          "base_uri": "https://localhost:8080/"
        },
        "id": "vrxzAAusFtY1",
        "outputId": "ce76af6c-e643-4e63-a115-6ed51911d8dd"
      },
      "execution_count": null,
      "outputs": [
        {
          "output_type": "stream",
          "name": "stdout",
          "text": [
            "second highest element is :  70\n"
          ]
        }
      ]
    },
    {
      "cell_type": "code",
      "source": [
        "list = [70, 11, 20, 4, 100] \n",
        "l=sorted(list)\n",
        "l=l[::-1]\n",
        "print('second highest element is : ',l[1])"
      ],
      "metadata": {
        "colab": {
          "base_uri": "https://localhost:8080/"
        },
        "id": "_lw4MV2OH4K0",
        "outputId": "087cdc65-1b9a-42cc-d139-a75630d8ea11"
      },
      "execution_count": null,
      "outputs": [
        {
          "output_type": "stream",
          "name": "stdout",
          "text": [
            "second highest element is :  70\n"
          ]
        }
      ]
    },
    {
      "cell_type": "markdown",
      "source": [
        "8. Given a list of integers, the task is to find N largest elements assuming size of list is greater than or equal o N.\n",
        "Examples :\n",
        "Input : [4, 5, 1, 2, 9] \n",
        "        N = 2\n",
        "Output :  [9, 5]\n",
        " \n",
        "Input : [81, 52, 45, 10, 3, 2, 96] \n",
        "        N = 3\n",
        "Output : [81, 96, 52]\n"
      ],
      "metadata": {
        "id": "-liZ22lJJSGO"
      }
    },
    {
      "cell_type": "code",
      "source": [
        "list=[4, 5, 1, 2, 9]\n",
        "n=2\n",
        "l=sorted(list)\n",
        "l.reverse()\n",
        "l2=[]\n",
        "for i in range (0,n):\n",
        "  l2.append(l[i])\n",
        "print(l2)"
      ],
      "metadata": {
        "colab": {
          "base_uri": "https://localhost:8080/"
        },
        "id": "8AekZ4FWIcZO",
        "outputId": "060892bc-0621-44f1-bd59-3de90c2c5474"
      },
      "execution_count": null,
      "outputs": [
        {
          "output_type": "stream",
          "name": "stdout",
          "text": [
            "[9, 5]\n"
          ]
        }
      ]
    },
    {
      "cell_type": "code",
      "source": [
        "list= [81, 52, 45, 10, 3, 2, 96] \n",
        "l=sorted(list)\n",
        "l2=[]\n",
        "n=3\n",
        "for i in range (0,n):\n",
        "  l2.append(l.pop())\n",
        "print(l2)\n"
      ],
      "metadata": {
        "colab": {
          "base_uri": "https://localhost:8080/"
        },
        "id": "SeQQa-GEJuZK",
        "outputId": "7f00c41b-d215-4655-abb2-5c166d0c7c4f"
      },
      "execution_count": null,
      "outputs": [
        {
          "output_type": "stream",
          "name": "stdout",
          "text": [
            "[96, 81, 52]\n"
          ]
        }
      ]
    },
    {
      "cell_type": "markdown",
      "source": [
        "9. Given a list of numbers, write a Python program to remove multiple elements from a list based on the given condition.\n",
        "Example: \n",
        "Input: [12, 15, 3, 10]\n",
        "Output: Remove = [12, 3], New_List = [15, 10]\n",
        " \n",
        "Input: [11, 5, 17, 18, 23, 50]\n",
        "Output: Remove = [1:5], New_list = [11, 50]\n"
      ],
      "metadata": {
        "id": "plofCZ8sMIZH"
      }
    },
    {
      "cell_type": "code",
      "source": [
        "list = [11, 5, 17, 18, 23, 50]\n",
        "remove = [11,5]\n",
        "for i in remove:\n",
        "  list.remove(i)\n",
        "print(list)\n"
      ],
      "metadata": {
        "colab": {
          "base_uri": "https://localhost:8080/"
        },
        "id": "zL6Ihr0KMCEJ",
        "outputId": "f077d79e-f30a-48ce-936b-e1fe992896a1"
      },
      "execution_count": null,
      "outputs": [
        {
          "output_type": "stream",
          "name": "stdout",
          "text": [
            "[17, 18, 23, 50]\n"
          ]
        }
      ]
    },
    {
      "cell_type": "code",
      "source": [
        "l1 = [11, 5, 17, 18, 23, 50]\n",
        "l=sorted(l1)\n",
        "r= [1,5]\n",
        "print(l1)\n",
        "start=r[0]\n",
        "end=r[1]\n",
        "for i in range (start,end):\n",
        "  l.remove(l1[i])\n",
        "  #print(l1[i])\n",
        "print(l)"
      ],
      "metadata": {
        "colab": {
          "base_uri": "https://localhost:8080/"
        },
        "id": "QwxfubAsNI-b",
        "outputId": "cdb4803d-61d3-4a08-920d-f288e45256f9"
      },
      "execution_count": null,
      "outputs": [
        {
          "output_type": "stream",
          "name": "stdout",
          "text": [
            "[11, 5, 17, 18, 23, 50]\n",
            "[11, 50]\n"
          ]
        }
      ]
    },
    {
      "cell_type": "markdown",
      "source": [
        "10. Input : lst = [15, 6, 7, 10, 12, 20, 10, 28, 10]\n",
        "         x = 10\n",
        "Output : 3 \n",
        "10 appears three times in given list.\n",
        " \n",
        "Input : lst = [8, 6, 8, 10, 8, 20, 10, 8, 8]\n",
        "        x = 16\n",
        "Output : 0\n"
      ],
      "metadata": {
        "id": "mvjfI94LemME"
      }
    },
    {
      "cell_type": "code",
      "source": [
        "l= [8, 6, 8, 10, 8, 20, 10, 8, 8]\n",
        "l.count(10)\n"
      ],
      "metadata": {
        "id": "82vD-3YdN-0p",
        "colab": {
          "base_uri": "https://localhost:8080/"
        },
        "outputId": "09c4484a-7c40-4fc4-f81c-ae88be17a0fa"
      },
      "execution_count": null,
      "outputs": [
        {
          "output_type": "execute_result",
          "data": {
            "text/plain": [
              "2"
            ]
          },
          "metadata": {},
          "execution_count": 1
        }
      ]
    },
    {
      "cell_type": "code",
      "source": [
        "l= [15, 6, 7, 10, 12, 20, 10, 28, 10]\n",
        "x=10\n",
        "c=0\n",
        "for i in l:\n",
        "  if i==x:\n",
        "    c+=1\n",
        "print(c)"
      ],
      "metadata": {
        "colab": {
          "base_uri": "https://localhost:8080/"
        },
        "id": "WuPz7EWyfGGI",
        "outputId": "123dd59d-7b34-4e1c-e66b-024224dcf2c2"
      },
      "execution_count": null,
      "outputs": [
        {
          "output_type": "stream",
          "name": "stdout",
          "text": [
            "3\n"
          ]
        }
      ]
    },
    {
      "cell_type": "markdown",
      "source": [
        "11. Given a list of integers with duplicate elements in it. The task to generate another list, which contains only the duplicate elements. In simple words, the new list should contain the elements which appear more than one.\n",
        "Examples : \n",
        "Input : list = [10, 20, 30, 20, 20, 30, 40, 50, -20, 60, 60, -20, -20]\n",
        "Output : output_list = [20, 30, -20, 60]\n",
        " \n",
        " \n",
        "Input :  list = [-1, 1, -1, 8]\n",
        "Output : output_list = [-1]\n"
      ],
      "metadata": {
        "id": "eopb6VPSf3A8"
      }
    },
    {
      "cell_type": "code",
      "source": [
        " list = [10, 20, 30, 20, 20, 30, 40, 50, -20, 60, 60, -20, -20]\n",
        " list.(20)"
      ],
      "metadata": {
        "colab": {
          "base_uri": "https://localhost:8080/",
          "height": 183
        },
        "id": "w2WfC5ZLfxv_",
        "outputId": "96aff19d-18e7-45ec-df2c-3fd0867e1aaa"
      },
      "execution_count": null,
      "outputs": [
        {
          "output_type": "error",
          "ename": "AttributeError",
          "evalue": "ignored",
          "traceback": [
            "\u001b[0;31m---------------------------------------------------------------------------\u001b[0m",
            "\u001b[0;31mAttributeError\u001b[0m                            Traceback (most recent call last)",
            "\u001b[0;32m<ipython-input-3-05e899424b85>\u001b[0m in \u001b[0;36m<module>\u001b[0;34m()\u001b[0m\n\u001b[1;32m      1\u001b[0m \u001b[0mlist\u001b[0m \u001b[0;34m=\u001b[0m \u001b[0;34m[\u001b[0m\u001b[0;36m10\u001b[0m\u001b[0;34m,\u001b[0m \u001b[0;36m20\u001b[0m\u001b[0;34m,\u001b[0m \u001b[0;36m30\u001b[0m\u001b[0;34m,\u001b[0m \u001b[0;36m20\u001b[0m\u001b[0;34m,\u001b[0m \u001b[0;36m20\u001b[0m\u001b[0;34m,\u001b[0m \u001b[0;36m30\u001b[0m\u001b[0;34m,\u001b[0m \u001b[0;36m40\u001b[0m\u001b[0;34m,\u001b[0m \u001b[0;36m50\u001b[0m\u001b[0;34m,\u001b[0m \u001b[0;34m-\u001b[0m\u001b[0;36m20\u001b[0m\u001b[0;34m,\u001b[0m \u001b[0;36m60\u001b[0m\u001b[0;34m,\u001b[0m \u001b[0;36m60\u001b[0m\u001b[0;34m,\u001b[0m \u001b[0;34m-\u001b[0m\u001b[0;36m20\u001b[0m\u001b[0;34m,\u001b[0m \u001b[0;34m-\u001b[0m\u001b[0;36m20\u001b[0m\u001b[0;34m]\u001b[0m\u001b[0;34m\u001b[0m\u001b[0;34m\u001b[0m\u001b[0m\n\u001b[0;32m----> 2\u001b[0;31m \u001b[0mlist\u001b[0m\u001b[0;34m.\u001b[0m\u001b[0mcontains\u001b[0m\u001b[0;34m(\u001b[0m\u001b[0;36m20\u001b[0m\u001b[0;34m)\u001b[0m\u001b[0;34m\u001b[0m\u001b[0;34m\u001b[0m\u001b[0m\n\u001b[0m",
            "\u001b[0;31mAttributeError\u001b[0m: 'list' object has no attribute 'contains'"
          ]
        }
      ]
    },
    {
      "cell_type": "code",
      "source": [
        "list1 = [10, 20, 30, 20, 20, 30, 40, 50, -20, 60, 60, -20, -20]\n",
        "set1=set(list1)\n",
        "list2=[]\n",
        "for i in set1:\n",
        "    c=0\n",
        "    for j in list1:\n",
        "        if i==j:\n",
        "            c+=1\n",
        "    if c>1:\n",
        "        list2.append(i)\n",
        "\n",
        "print(list2)\n"
      ],
      "metadata": {
        "colab": {
          "base_uri": "https://localhost:8080/"
        },
        "id": "TzBEKHclgaXv",
        "outputId": "dd061e21-94b1-4ff9-9c39-e1a66fa86a87"
      },
      "execution_count": null,
      "outputs": [
        {
          "output_type": "stream",
          "name": "stdout",
          "text": [
            "[-20, 20, 60, 30]\n"
          ]
        }
      ]
    },
    {
      "cell_type": "code",
      "source": [
        "list1 = [10, 20, 30, 20, 20, 30, 40, 50, -20, 60, 60, -20, -20]\n",
        "list2=[]\n",
        "for i in list1:\n",
        "    a=list1.count(i)\n",
        "    if a!=1:\n",
        "        for j in range(a-1):\n",
        "            list1.remove(i)\n",
        "        list2.append(i)\n",
        "print(list2)\n"
      ],
      "metadata": {
        "colab": {
          "base_uri": "https://localhost:8080/"
        },
        "id": "6PFT8ANxieDV",
        "outputId": "8162700c-a03d-407b-9296-4a6806b32159"
      },
      "execution_count": null,
      "outputs": [
        {
          "output_type": "stream",
          "name": "stdout",
          "text": [
            "[20, 30, -20, 60]\n"
          ]
        }
      ]
    },
    {
      "cell_type": "code",
      "source": [
        "list = [10, 20, 30, 20, 20, 30, 40, 50, -20, 60, 60, -20, -20]\n",
        "#s=set(list)\n",
        "b=[]\n",
        "c=[]\n",
        "for i in list:\n",
        "    if i not in b:\n",
        "        b.append(i)\n",
        "    else:\n",
        "        c.append(i)\n",
        "print(set(c))\n"
      ],
      "metadata": {
        "id": "UHMdLj-Bifm5"
      },
      "execution_count": null,
      "outputs": []
    },
    {
      "cell_type": "markdown",
      "source": [
        "12. Python program to find Cumulative sum of a list\n",
        "The problem statement asks to produce a new list whose i^{th} element will be equal to the sum of the (i + 1) elements.\n",
        "Examples : \n",
        " \n",
        "Input : list = [10, 20, 30, 40, 50]\n",
        "Output : [10, 30, 60, 100, 150]\n",
        " \n",
        "Input : list = [4, 10, 15, 18, 20]\n",
        "Output : [4, 14, 29, 47, 67]\n",
        " \n"
      ],
      "metadata": {
        "id": "HfWl0j3vjwD2"
      }
    },
    {
      "cell_type": "code",
      "source": [
        " list = [10, 20, 30, 40, 50]\n",
        " l=[]\n",
        " a=0\n",
        " for i in range (len(list)):\n",
        "   a+=list[i]\n",
        "   l.append(a)\n",
        "print(l)"
      ],
      "metadata": {
        "colab": {
          "base_uri": "https://localhost:8080/"
        },
        "id": "XXfolzoAjzeo",
        "outputId": "e143fa3f-2d79-450e-f198-f54d13fce90c"
      },
      "execution_count": null,
      "outputs": [
        {
          "output_type": "stream",
          "name": "stdout",
          "text": [
            "[10, 30, 60, 100, 150]\n"
          ]
        }
      ]
    },
    {
      "cell_type": "code",
      "source": [
        " list = [4, 10, 15, 18, 20]\n",
        " l=[]\n",
        " for i in range (len(list)):\n",
        "\n",
        "  if i>0:\n",
        "       l.append((list[i]+l[i-1]))\n",
        "  else:\n",
        "    l.append(list[i])\n",
        "print(l)"
      ],
      "metadata": {
        "colab": {
          "base_uri": "https://localhost:8080/"
        },
        "id": "D0f3hqsDk9tM",
        "outputId": "f6478e23-79b6-4fb1-c52a-5ecb87b4cd83"
      },
      "execution_count": null,
      "outputs": [
        {
          "output_type": "stream",
          "name": "stdout",
          "text": [
            "[4, 14, 29, 47, 67]\n"
          ]
        }
      ]
    },
    {
      "cell_type": "markdown",
      "source": [
        "13. Break a list into chunks of size N in Python\n",
        "Input: [1, 2, 3, 4, 5,6, 7, 8, 9]\n",
        "Output: [[1, 2, 3, 4], [5, 6, 7, 8], [9]]\n"
      ],
      "metadata": {
        "id": "E4IdBOAinD4B"
      }
    },
    {
      "cell_type": "code",
      "source": [
        "l=[1, 2, 3, 4, 5,6, 7, 8, 9]\n",
        "n=4\n",
        "l1=[]\n",
        "for i in range (0,len(l),n):\n",
        "  s=[]\n",
        "  print(i)\n",
        "  for j in range (i,i+n):\n",
        "    if i+n <len(l):\n",
        "      s.append(l[j])\n",
        "    else:\n",
        "      for k in range (i,len(l)):\n",
        "        s.append(l[k])\n",
        "      break\n",
        "  l1.append(s)\n",
        "l1"
      ],
      "metadata": {
        "colab": {
          "base_uri": "https://localhost:8080/"
        },
        "id": "9bRmeYZmmVfG",
        "outputId": "4922b61b-519d-4a41-9ef3-2d19d9f9ae90"
      },
      "execution_count": null,
      "outputs": [
        {
          "output_type": "stream",
          "name": "stdout",
          "text": [
            "0\n",
            "4\n",
            "8\n"
          ]
        },
        {
          "output_type": "execute_result",
          "data": {
            "text/plain": [
              "[[1, 2, 3, 4], [5, 6, 7, 8], [9]]"
            ]
          },
          "metadata": {},
          "execution_count": 20
        }
      ]
    },
    {
      "cell_type": "code",
      "source": [
        "l1=[1, 2, 3, 4, 5,6, 7, 8, 9,10]\n",
        "n=4\n",
        "l2=[]\n",
        "for i in range(0,len(l1),n):\n",
        "    l4=l1[i:i+n]\n",
        "    l2.append(l4)\n",
        "    \n",
        "print(l2)\n"
      ],
      "metadata": {
        "colab": {
          "base_uri": "https://localhost:8080/"
        },
        "id": "VsVjFePlrc2Q",
        "outputId": "e24cbf5d-8b9a-4be6-d967-acd101f38d1a"
      },
      "execution_count": null,
      "outputs": [
        {
          "output_type": "stream",
          "name": "stdout",
          "text": [
            "[[1, 2, 3, 4], [5, 6, 7, 8], [9, 10]]\n"
          ]
        }
      ]
    },
    {
      "cell_type": "markdown",
      "source": [
        "14. Remove common elements from two list in Python\n",
        " \n"
      ],
      "metadata": {
        "id": "THAtzwbIn4XD"
      }
    },
    {
      "cell_type": "code",
      "source": [
        "list = [10, 20, 30, 40,50] \n",
        "l=sorted(list)\n",
        "list2 = [4, 10, 15, 18, 20]\n",
        "for i in l:\n",
        "  if i in list2:\n",
        "    list.remove(i)\n",
        "    list2.remove(i)\n",
        "print(list)\n",
        "print(list2)\n"
      ],
      "metadata": {
        "colab": {
          "base_uri": "https://localhost:8080/"
        },
        "id": "YuZYGECetOMQ",
        "outputId": "1ed340a0-74b0-48c3-953b-c8549c848110"
      },
      "execution_count": null,
      "outputs": [
        {
          "output_type": "stream",
          "name": "stdout",
          "text": [
            "[30, 40, 50]\n",
            "[4, 15, 18]\n"
          ]
        }
      ]
    },
    {
      "cell_type": "code",
      "source": [
        "# wrong code\n",
        "list = [10, 20, 30, 40, 50] \n",
        "l=list\n",
        "list2 = [4, 10, 15, 18, 20]\n",
        "for i in l:\n",
        "  if i in list2:\n",
        "    list.remove(i)\n",
        "    list2.remove(i)\n",
        "print(list)\n",
        "print(list2)\n",
        "\n",
        "\n"
      ],
      "metadata": {
        "colab": {
          "base_uri": "https://localhost:8080/"
        },
        "id": "MmbLSBZFtrLK",
        "outputId": "9c82504c-b86e-47d1-90f8-ab8df59f14a4"
      },
      "execution_count": null,
      "outputs": [
        {
          "output_type": "stream",
          "name": "stdout",
          "text": [
            "[20, 30, 40, 50]\n",
            "[4, 15, 18, 20]\n"
          ]
        }
      ]
    },
    {
      "cell_type": "code",
      "source": [
        "list = [10, 20, 30, 40,50] \n",
        "l=sorted(list)\n",
        "list2 = [4, 10, 15, 18, 20]\n",
        "l2=sorted(list2)\n",
        "for i in range(len(l)):\n",
        "  for j in l2:\n",
        "    if j-l[i]==0:\n",
        "      list.remove(j)\n",
        "      list2.remove(j)\n",
        "print(list)\n",
        "print(list2)\n"
      ],
      "metadata": {
        "colab": {
          "base_uri": "https://localhost:8080/"
        },
        "id": "QbJwFjt2uvRF",
        "outputId": "96fe382a-555e-414b-9ce6-6679e9da82d9"
      },
      "execution_count": null,
      "outputs": [
        {
          "output_type": "stream",
          "name": "stdout",
          "text": [
            "[30, 40, 50]\n",
            "[4, 15, 18]\n"
          ]
        }
      ]
    },
    {
      "cell_type": "code",
      "source": [
        "list = [10, 20, 30, 40,50]\n",
        "print(list[::-1])\n",
        "print(list[::-1])"
      ],
      "metadata": {
        "id": "k28BzQJv0Si-",
        "colab": {
          "base_uri": "https://localhost:8080/"
        },
        "outputId": "361f43cf-25cf-4aaa-a274-ca48639fbab6"
      },
      "execution_count": null,
      "outputs": [
        {
          "output_type": "stream",
          "name": "stdout",
          "text": [
            "[50, 40, 30, 20, 10]\n",
            "[50, 40, 30, 20, 10]\n"
          ]
        }
      ]
    },
    {
      "cell_type": "code",
      "source": [
        "s='elephant'\n",
        "list = []\n",
        "for i in s:\n",
        "  list.append(i)\n",
        "set=set(list)\n",
        "for i in set:\n",
        "  print(i,list.count(i))\n",
        "\n"
      ],
      "metadata": {
        "colab": {
          "base_uri": "https://localhost:8080/"
        },
        "id": "S49JwBVN0au3",
        "outputId": "30954e68-3ac7-4aaf-a8db-b37736f3db20"
      },
      "execution_count": null,
      "outputs": [
        {
          "output_type": "stream",
          "name": "stdout",
          "text": [
            "e 2\n",
            "n 1\n",
            "a 1\n",
            "l 1\n",
            "h 1\n",
            "p 1\n",
            "t 1\n"
          ]
        }
      ]
    },
    {
      "cell_type": "code",
      "source": [
        "a=[32,5,3,6,7,54,87]\n",
        "def bs(a):\n",
        "  b=len(a)-1\n",
        "  for x in range(b):\n",
        "    for y in range(b-x):\n",
        "       if a[y]>a[y+1]:\n",
        "         a[y],a[y+1]=a[y+1],a[y]\n",
        "  return a\n",
        "bs(a)"
      ],
      "metadata": {
        "id": "6ghSnMBt12DW",
        "colab": {
          "base_uri": "https://localhost:8080/"
        },
        "outputId": "bb9130b3-dfb5-4e2a-b9e2-38a033b746cc"
      },
      "execution_count": null,
      "outputs": [
        {
          "output_type": "execute_result",
          "data": {
            "text/plain": [
              "[3, 5, 6, 7, 32, 54, 87]"
            ]
          },
          "metadata": {},
          "execution_count": 2
        }
      ]
    },
    {
      "cell_type": "code",
      "source": [
        "a=int(input())\n",
        "f=0\n",
        "s=1\n",
        "if a<=0:\n",
        "  print (a)\n",
        "else:\n",
        "  print(f,s,end=' ')\n",
        "  for i in range(2,a):\n",
        "    n=f+s\n",
        "    print(n,end=' ')\n",
        "    f,s=s,n\n"
      ],
      "metadata": {
        "colab": {
          "base_uri": "https://localhost:8080/"
        },
        "id": "dD-8hzpL3j-u",
        "outputId": "b60ab530-d5c5-4986-9dec-b45ca7c7c94d"
      },
      "execution_count": null,
      "outputs": [
        {
          "output_type": "stream",
          "name": "stdout",
          "text": [
            "8\n",
            "0 1 1 2 3 5 8 13 "
          ]
        }
      ]
    },
    {
      "cell_type": "code",
      "source": [
        "# wrong code\n",
        "a=int(input(\"enter number\"))\n",
        "if a>1:\n",
        "  for x in range(2,a):\n",
        "    if(a%x)==0:\n",
        "      print(\"not prime\")\n",
        "      break\n",
        "    else:\n",
        "      print(\"Prime\")\n",
        "else:\n",
        "  print(\"not prime\")"
      ],
      "metadata": {
        "colab": {
          "base_uri": "https://localhost:8080/"
        },
        "id": "rtIKPgxf5wJ7",
        "outputId": "7168986a-cf5a-4de0-c2f8-21113f50fc7f"
      },
      "execution_count": null,
      "outputs": [
        {
          "output_type": "stream",
          "name": "stdout",
          "text": [
            "enter number9\n",
            "Prime\n",
            "not prime\n"
          ]
        }
      ]
    },
    {
      "cell_type": "code",
      "source": [
        "lst =[1,2,3,6,2,1,6,5,8,4,9,7,5,4,1,5]\n",
        "lst2 = []\n",
        "\n",
        "for i in lst:\n",
        "  if i not in lst2:\n",
        "    lst2.append(i)\n",
        "print(lst2)"
      ],
      "metadata": {
        "colab": {
          "base_uri": "https://localhost:8080/"
        },
        "id": "iG4ot14L6mA8",
        "outputId": "694db0ab-ec80-4dda-c6d2-61eb4df69533"
      },
      "execution_count": null,
      "outputs": [
        {
          "output_type": "stream",
          "name": "stdout",
          "text": [
            "[1, 2, 3, 6, 5, 8, 4, 9, 7]\n"
          ]
        }
      ]
    },
    {
      "cell_type": "code",
      "source": [
        ""
      ],
      "metadata": {
        "id": "7grE6Vd4Ila4"
      },
      "execution_count": null,
      "outputs": []
    }
  ]
}